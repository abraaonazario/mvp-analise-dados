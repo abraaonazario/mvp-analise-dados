{
  "cells": [
    {
      "cell_type": "markdown",
      "metadata": {},
      "source": [
        "# \ud83d\uded2 MVP - An\u00e1lise Explorat\u00f3ria e Pr\u00e9-Processamento de Dados\n\n",
        "**Projeto:** Fatores que influenciam a avalia\u00e7\u00e3o do cliente em pedidos online  \n",
        "**Fonte:** Brazilian E-Commerce Public Dataset by Olist (Kaggle)  \n",
        "**Autor:** Abra\u00e3o Naz\u00e1rio"
      ]
    },
    {
      "cell_type": "markdown",
      "metadata": {},
      "source": [
        "# \u2705 Defini\u00e7\u00e3o do Problema\n\n",
        "O objetivo deste projeto \u00e9 investigar os fatores que influenciam as avalia\u00e7\u00f5es de clientes em uma plataforma brasileira de e-commerce.\n\n",
        "- **Problema:** Predi\u00e7\u00e3o de avalia\u00e7\u00f5es de clientes (`review_score`).\n",
        "- **Tipo:** Aprendizado supervisionado (classifica\u00e7\u00e3o).\n",
        "- **Hip\u00f3teses:** O status do pedido influencia diretamente a nota de avalia\u00e7\u00e3o. Espera-se concentra\u00e7\u00e3o em notas 4 e 5.\n",
        "- **Restri\u00e7\u00f5es:** Foram utilizados os arquivos `olist_orders_dataset_5000.csv` e `olist_order_reviews_dataset_5000.csv`."
      ]
    },
    {
      "cell_type": "code",
      "execution_count": null,
      "metadata": {},
      "outputs": [],
      "source": [
        "import pandas as pd\n\n",
        "url_orders = 'https://raw.githubusercontent.com/abraaonazario/mvp-analise-dados/main/olist_orders_dataset_5000.csv'\n",
        "url_reviews = 'https://raw.githubusercontent.com/abraaonazario/mvp-analise-dados/main/olist_order_reviews_dataset_5000.csv'\n\n",
        "orders = pd.read_csv(url_orders)\n",
        "reviews = pd.read_csv(url_reviews)"
      ]
    },
    {
      "cell_type": "code",
      "execution_count": null,
      "metadata": {},
      "outputs": [],
      "source": [
        "orders.head()"
      ]
    },
    {
      "cell_type": "code",
      "execution_count": null,
      "metadata": {},
      "outputs": [],
      "source": [
        "orders.info()\n",
        "reviews.info()"
      ]
    },
    {
      "cell_type": "code",
      "execution_count": null,
      "metadata": {},
      "outputs": [],
      "source": [
        "orders.isnull().sum(), reviews.isnull().sum()"
      ]
    },
    {
      "cell_type": "code",
      "execution_count": null,
      "metadata": {},
      "outputs": [],
      "source": [
        "df = pd.merge(orders, reviews, on='order_id')\n",
        "df.head()"
      ]
    },
    {
      "cell_type": "code",
      "execution_count": null,
      "metadata": {},
      "outputs": [],
      "source": [
        "df['review_score'].describe()"
      ]
    },
    {
      "cell_type": "markdown",
      "metadata": {},
      "source": [
        "# \u2705 An\u00e1lise de Dados\n\n",
        "- Total de registros: 5000\n",
        "- Atributos analisados: `order_status`, `order_purchase_timestamp`, `review_score`\n",
        "- N\u00e3o foram encontrados valores nulos.\n",
        "- `review_score` apresenta concentra\u00e7\u00e3o de notas 4 e 5 (desbalanceamento)."
      ]
    },
    {
      "cell_type": "code",
      "execution_count": null,
      "metadata": {},
      "outputs": [],
      "source": [
        "import matplotlib.pyplot as plt\n",
        "import seaborn as sns\n\n",
        "sns.countplot(data=df, x='review_score')\n",
        "plt.title(\"Distribui\u00e7\u00e3o das Avalia\u00e7\u00f5es\")\n",
        "plt.show()"
      ]
    },
    {
      "cell_type": "code",
      "execution_count": null,
      "metadata": {},
      "outputs": [],
      "source": [
        "sns.countplot(data=df, x='order_status')\n",
        "plt.title(\"Distribui\u00e7\u00e3o dos Status dos Pedidos\")\n",
        "plt.xticks(rotation=45)\n",
        "plt.show()"
      ]
    },
    {
      "cell_type": "code",
      "execution_count": null,
      "metadata": {},
      "outputs": [],
      "source": [
        "sns.boxplot(x=df['review_score'])\n",
        "plt.title(\"Boxplot das Avalia\u00e7\u00f5es\")\n",
        "plt.show()"
      ]
    },
    {
      "cell_type": "markdown",
      "metadata": {},
      "source": [
        "# \u2705 Pr\u00e9-processamento de Dados\n\n",
        "Selecionados os seguintes atributos para continuidade:\n\n",
        "- `order_status`\n",
        "- `order_purchase_timestamp`\n",
        "- `review_score`"
      ]
    },
    {
      "cell_type": "code",
      "execution_count": null,
      "metadata": {},
      "outputs": [],
      "source": [
        "df = df[['order_status', 'order_purchase_timestamp', 'review_score']].copy()\n",
        "df.dropna(inplace=True)"
      ]
    },
    {
      "cell_type": "markdown",
      "metadata": {},
      "source": [
        "# \ud83d\udcdd Conclus\u00e3o\n\n",
        "O dataset encontra-se limpo e pronto para futuras etapas de modelagem.\n\n",
        "Projeto desenvolvido por **Abra\u00e3o Naz\u00e1rio**."
      ]
    }
  ],
  "metadata": {
    "kernelspec": {
      "display_name": "Python 3",
      "language": "python",
      "name": "python3"
    },
    "language_info": {
      "name": "python",
      "version": "3.10"
    }
  },
  "nbformat": 4,
  "nbformat_minor": 5
}