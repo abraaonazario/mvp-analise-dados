{
 "cells": [
  {
   "cell_type": "markdown",
   "id": "51517e8c",
   "metadata": {},
   "source": [
    "\n",
    "# 🛒 Análise Exploratória e Pré-Processamento de Dados\n",
    "**Projeto:** Fatores que influenciam a avaliação do cliente em pedidos online  \n",
    "**Fonte dos Dados:** [Brazilian E-Commerce Public Dataset by Olist - Kaggle](https://www.kaggle.com/datasets/olistbr/brazilian-ecommerce)  \n",
    "**Autor:** Abraão Nazário\n"
   ]
  },
  {
   "cell_type": "markdown",
   "id": "98ee1e69",
   "metadata": {},
   "source": [
    "\n",
    "## 🎯 Definição do Problema\n",
    "O objetivo deste projeto é investigar os fatores que influenciam as avaliações feitas pelos clientes no contexto de uma plataforma de e-commerce brasileira. \n",
    "\n",
    "**Tipo de problema:** Classificação (supervisionado)  \n",
    "**Hipóteses iniciais:** Tempo de entrega, categoria do produto e número de itens podem impactar a avaliação.  \n",
    "**Restrições:** Foram considerados apenas pedidos com avaliação registrada e dados completos.\n"
   ]
  },
  {
   "cell_type": "code",
   "execution_count": null,
   "id": "6d514fa6",
   "metadata": {},
   "outputs": [],
   "source": [
    "\n",
    "import pandas as pd\n",
    "\n",
    "# Leitura dos arquivos principais diretamente do GitHub\n",
    "url_orders = 'https://raw.githubusercontent.com/abraaonazario/mvp-analise-dados/main/olist_orders_dataset.csv'\n",
    "url_reviews = 'https://raw.githubusercontent.com/abraaonazario/mvp-analise-dados/main/olist_order_reviews_dataset.csv'\n",
    "\n",
    "orders = pd.read_csv(url_orders)\n",
    "reviews = pd.read_csv(url_reviews)\n"
   ]
  },
  {
   "cell_type": "code",
   "execution_count": null,
   "id": "01e8a3cc",
   "metadata": {},
   "outputs": [],
   "source": [
    "\n",
    "# Visualizar os dados\n",
    "orders.head()\n"
   ]
  },
  {
   "cell_type": "code",
   "execution_count": null,
   "id": "e29b0e61",
   "metadata": {},
   "outputs": [],
   "source": [
    "\n",
    "# Informações sobre o dataset\n",
    "orders.info()\n",
    "reviews.info()\n"
   ]
  },
  {
   "cell_type": "code",
   "execution_count": null,
   "id": "c1e90b76",
   "metadata": {},
   "outputs": [],
   "source": [
    "\n",
    "# Resumo estatístico das datas dos pedidos\n",
    "orders.describe(include='all')\n"
   ]
  },
  {
   "cell_type": "code",
   "execution_count": null,
   "id": "9e017a66",
   "metadata": {},
   "outputs": [],
   "source": [
    "\n",
    "# Verificar valores ausentes\n",
    "orders.isnull().sum()\n",
    "reviews.isnull().sum()\n"
   ]
  },
  {
   "cell_type": "code",
   "execution_count": null,
   "id": "af650393",
   "metadata": {},
   "outputs": [],
   "source": [
    "\n",
    "# Unir dados de pedidos com avaliações\n",
    "df = pd.merge(orders, reviews, on='order_id')\n",
    "df.head()\n"
   ]
  },
  {
   "cell_type": "code",
   "execution_count": null,
   "id": "004eb17b",
   "metadata": {},
   "outputs": [],
   "source": [
    "\n",
    "import matplotlib.pyplot as plt\n",
    "import seaborn as sns\n",
    "\n",
    "# Distribuição das notas\n",
    "sns.countplot(data=df, x='review_score')\n",
    "plt.title(\"Distribuição das Avaliações dos Clientes\")\n",
    "plt.show()\n"
   ]
  },
  {
   "cell_type": "markdown",
   "id": "d5c2a908",
   "metadata": {},
   "source": [
    "\n",
    "## ⚙️ Pré-processamento de Dados\n",
    "Aqui foram aplicadas as operações de limpeza, transformação e preparação dos dados.\n"
   ]
  },
  {
   "cell_type": "code",
   "execution_count": null,
   "id": "d13e2251",
   "metadata": {},
   "outputs": [],
   "source": [
    "\n",
    "# Exemplo de pré-processamento: eliminar colunas irrelevantes\n",
    "df = df[['order_status', 'order_purchase_timestamp', 'review_score']]\n",
    "df.dropna(inplace=True)\n"
   ]
  },
  {
   "cell_type": "markdown",
   "id": "8049140b",
   "metadata": {},
   "source": [
    "\n",
    "## ✅ Checklist\n",
    "- [x] Definição do problema\n",
    "- [x] Tipo de problema identificado\n",
    "- [x] Leitura dos dados e visualização inicial\n",
    "- [x] Estatísticas descritivas\n",
    "- [x] Valores ausentes tratados\n",
    "- [x] Visualizações criadas\n",
    "- [x] Pré-processamento iniciado\n"
   ]
  },
  {
   "cell_type": "markdown",
   "id": "d4ef9028",
   "metadata": {},
   "source": [
    "\n",
    "## 📝 Conclusão\n",
    "Este notebook iniciou a análise dos dados de e-commerce do Brasil, focando na relação entre características do pedido e a avaliação do cliente. Etapas futuras podem incluir modelagem preditiva e análise mais aprofundada dos dados de produtos e logística.\n"
   ]
  }
 ],
 "metadata": {},
 "nbformat": 4,
 "nbformat_minor": 5
}
