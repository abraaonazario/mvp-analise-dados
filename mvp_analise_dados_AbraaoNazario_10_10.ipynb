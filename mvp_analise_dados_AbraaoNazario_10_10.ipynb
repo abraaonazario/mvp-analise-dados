{
  "cells": [
    {
      "cell_type": "markdown",
      "metadata": {
        "id": "bsPwLz0AmTzr"
      },
      "source": [
        "MVP – Análise de Avaliações de Clientes no E-commerce Olist\n",
        "Autor: Abraão Nazário\n",
        "\n",
        "História (Storytelling)\n",
        "\n",
        "“Por que os clientes dão notas baixas, mesmo com tantas compras de sucesso? Nosso objetivo é desvendar esse mistério: entender quais fatores — status do pedido, dia ou hora da compra — realmente impactam a satisfação do cliente. Vamos mergulhar nos dados e encontrar pistas que ajudem a Olist a melhorar a experiência de pedidos.”"
      ],
      "id": "bsPwLz0AmTzr"
    },
    {
      "cell_type": "code",
      "source": [],
      "metadata": {
        "id": "E9DlT9iCjwBY"
      },
      "id": "E9DlT9iCjwBY",
      "execution_count": 16,
      "outputs": []
    },
    {
      "cell_type": "markdown",
      "metadata": {
        "id": "ytFnKcKmmTzw"
      },
      "source": [
        "# ✅ Definição do Problema\n",
        "\n",
        "O objetivo deste projeto é investigar os fatores que influenciam as avaliações de clientes em uma plataforma brasileira de e-commerce.\n",
        "\n",
        "- **Problema:** Predição de avaliações de clientes (`review_score`).\n",
        "- **Tipo:** Aprendizado supervisionado (classificação).\n",
        "- **Hipóteses:** O status do pedido influencia diretamente a nota de avaliação. Espera-se concentração em notas 4 e 5.\n",
        "- **Restrições:** Foram utilizados os arquivos `olist_orders_dataset_5000.csv` e `olist_order_reviews_dataset_5000.csv`.\n",
        "\n",
        "\n",
        "🎯 Objetivo, Hipóteses e Métricas\n",
        "Problema: Prever review_score (nota 1–5).\n",
        "\n",
        "Hipóteses:\n",
        "\n",
        "Status do pedido (“canceled”, “delivered”) afeta a nota.\n",
        "\n",
        "Há desbalanceamento com maior frequência de notas altas.\n",
        "\n",
        "Momentos da compra (horário e dia) têm influência na satisfação.\n",
        "\n",
        "Métricas: Acurácia, F1-score macro, matriz de confusão.\n",
        "\n",
        "📂 Fonte dos Dados e Data Dictionary\n",
        "datasets: olist_orders_dataset.csv, olist_order_reviews_dataset.csv\n",
        "\n",
        "atributos:\n",
        "\n",
        "order_status — status do pedido (categórico)\n",
        "\n",
        "order_purchase_timestamp — data/hora da compra\n",
        "\n",
        "review_score — nota final (1–5)\n",
        "\n",
        "Features geradas: hour, purchase_day, codificações one-hot\n",
        "\n"
      ],
      "id": "ytFnKcKmmTzw"
    },
    {
      "cell_type": "code",
      "execution_count": 17,
      "metadata": {
        "id": "YyuHjsLRmTzx"
      },
      "outputs": [],
      "source": [
        "import pandas as pd\n",
        "import numpy as np\n",
        "import matplotlib.pyplot as plt\n",
        "import seaborn as sns\n",
        "from scipy import stats\n",
        "from imblearn.over_sampling import SMOTE\n",
        "from sklearn.model_selection import train_test_split\n",
        "from sklearn.ensemble import RandomForestClassifier\n",
        "from sklearn.metrics import classification_report, confusion_matrix\n",
        "\n",
        "# 📥 URLs dos arquivos de dados\n",
        "url_orders = 'https://raw.githubusercontent.com/abraaonazario/mvp-analise-dados/main/olist_orders_dataset.csv'\n",
        "url_reviews = 'https://raw.githubusercontent.com/abraaonazario/mvp-analise-dados/main/olist_order_reviews_dataset.csv'\n",
        "\n",
        "orders = pd.read_csv(url_orders)\n",
        "reviews = pd.read_csv(url_reviews)\n",
        "df = pd.merge(orders, reviews, on='order_id')\n"
      ],
      "id": "YyuHjsLRmTzx"
    },
    {
      "cell_type": "code",
      "execution_count": 18,
      "metadata": {
        "colab": {
          "base_uri": "https://localhost:8080/"
        },
        "id": "VxiaCIjHmTz1",
        "outputId": "f6752e43-5c83-471e-d554-bf4097a50f67"
      },
      "outputs": [
        {
          "output_type": "stream",
          "name": "stdout",
          "text": [
            "min          1.000000\n",
            "max          5.000000\n",
            "mean         3.575200\n",
            "median       4.000000\n",
            "mode         4.000000\n",
            "std          1.282916\n",
            "count     5000.000000\n",
            "dtype: float64\n"
          ]
        }
      ],
      "source": [
        "import scipy.stats as stats\n",
        "\n",
        "rs = df['review_score']\n",
        "mode_res = stats.mode(rs, keepdims=True)\n",
        "\n",
        "estat = {\n",
        "    'min': rs.min(),\n",
        "    'max': rs.max(),\n",
        "    'mean': rs.mean(),\n",
        "    'median': rs.median(),\n",
        "    'mode': mode_res.mode[0],  # sem IndexError\n",
        "    'std': rs.std(),\n",
        "    'count': rs.count()\n",
        "}\n",
        "print(pd.Series(estat))\n"
      ],
      "id": "VxiaCIjHmTz1"
    },
    {
      "cell_type": "markdown",
      "source": [
        "Comentários sobre os resultados\n",
        "\n",
        "Mín/Máx: variam corretamente entre 1–5;\n",
        "\n",
        "Média ≈ Mediana: indica distribuição aproximadamente simétrica;\n",
        "\n",
        "Moda = 5: sinal forte de desbalanceamento de notas;\n",
        "\n",
        "DP ~1,1: variação moderada, sugerindo notas próximas das mais alt"
      ],
      "metadata": {
        "id": "nEXvZzm6qfAK"
      },
      "id": "nEXvZzm6qfAK"
    },
    {
      "cell_type": "code",
      "execution_count": 19,
      "metadata": {
        "colab": {
          "base_uri": "https://localhost:8080/"
        },
        "id": "dq2eDXsOmTz2",
        "outputId": "805fe619-862b-4fc9-dcf3-96ae97d47521"
      },
      "outputs": [
        {
          "output_type": "stream",
          "name": "stdout",
          "text": [
            "<class 'pandas.core.frame.DataFrame'>\n",
            "RangeIndex: 5000 entries, 0 to 4999\n",
            "Data columns (total 4 columns):\n",
            " #   Column                    Non-Null Count  Dtype \n",
            "---  ------                    --------------  ----- \n",
            " 0   order_id                  5000 non-null   object\n",
            " 1   customer_id               5000 non-null   object\n",
            " 2   order_status              5000 non-null   object\n",
            " 3   order_purchase_timestamp  5000 non-null   object\n",
            "dtypes: object(4)\n",
            "memory usage: 156.4+ KB\n",
            "<class 'pandas.core.frame.DataFrame'>\n",
            "RangeIndex: 5000 entries, 0 to 4999\n",
            "Data columns (total 3 columns):\n",
            " #   Column        Non-Null Count  Dtype \n",
            "---  ------        --------------  ----- \n",
            " 0   review_id     5000 non-null   object\n",
            " 1   order_id      5000 non-null   object\n",
            " 2   review_score  5000 non-null   int64 \n",
            "dtypes: int64(1), object(2)\n",
            "memory usage: 117.3+ KB\n"
          ]
        }
      ],
      "source": [
        "orders.info()\n",
        "reviews.info()"
      ],
      "id": "dq2eDXsOmTz2"
    },
    {
      "cell_type": "markdown",
      "source": [
        "📈 3. Visualizações Exploratórias\n",
        "Histograma das avaliações"
      ],
      "metadata": {
        "id": "azKs6hgzqiXZ"
      },
      "id": "azKs6hgzqiXZ"
    },
    {
      "cell_type": "code",
      "execution_count": 20,
      "metadata": {
        "colab": {
          "base_uri": "https://localhost:8080/",
          "height": 468
        },
        "id": "SAAvvBjpmTz2",
        "outputId": "3578275d-7c01-4ecb-ffe7-c0983d234c76"
      },
      "outputs": [
        {
          "output_type": "execute_result",
          "data": {
            "text/plain": [
              "<Axes: xlabel='review_score', ylabel='Count'>"
            ]
          },
          "metadata": {},
          "execution_count": 20
        },
        {
          "output_type": "display_data",
          "data": {
            "text/plain": [
              "<Figure size 640x480 with 1 Axes>"
            ],
            "image/png": "[encoded data removed]"
          },
          "metadata": {}
        }
      ],
      "source": [
        "sns.histplot(df['review_score'], bins=5, kde=True)\n"
      ],
      "id": "SAAvvBjpmTz2"
    },
    {
      "cell_type": "markdown",
      "source": [
        "Comentário: Alta frequência nas notas 4 e 5 confirma o desbalanceamento.\n",
        "\n"
      ],
      "metadata": {
        "id": "ZN2xgb5Aqorq"
      },
      "id": "ZN2xgb5Aqorq"
    },
    {
      "cell_type": "code",
      "execution_count": 21,
      "metadata": {
        "colab": {
          "base_uri": "https://localhost:8080/",
          "height": 206
        },
        "id": "iTLrCbHkmTz3",
        "outputId": "52eb26be-4743-4af7-e707-929116bbfca5"
      },
      "outputs": [
        {
          "output_type": "execute_result",
          "data": {
            "text/plain": [
              "  order_id customer_id order_status order_purchase_timestamp review_id  \\\n",
              "0  order_0  customer_0     canceled      2022-01-01 00:00:00  review_0   \n",
              "1  order_1  customer_1   processing      2022-01-01 01:00:00  review_1   \n",
              "2  order_2  customer_2    delivered      2022-01-01 02:00:00  review_2   \n",
              "3  order_3  customer_3     canceled      2022-01-01 03:00:00  review_3   \n",
              "4  order_4  customer_4     canceled      2022-01-01 04:00:00  review_4   \n",
              "\n",
              "   review_score  \n",
              "0             5  \n",
              "1             5  \n",
              "2             4  \n",
              "3             5  \n",
              "4             3  "
            ],
            "text/html": [
              "\n",
              "  <div id=\"df-fe18e4f9-45ba-49b6-bc49-f9230d30ff26\" class=\"colab-df-container\">\n",
              "    <div>\n",
              "<style scoped>\n",
              "    .dataframe tbody tr th:only-of-type {\n",
              "        vertical-align: middle;\n",
              "    }\n",
              "\n",
              "    .dataframe tbody tr th {\n",
              "        vertical-align: top;\n",
              "    }\n",
              "\n",
              "    .dataframe thead th {\n",
              "        text-align: right;\n",
              "    }\n",
              "</style>\n",
              "<table border=\"1\" class=\"dataframe\">\n",
              "  <thead>\n",
              "    <tr style=\"text-align: right;\">\n",
              "      <th></th>\n",
              "      <th>order_id</th>\n",
              "      <th>customer_id</th>\n",
              "      <th>order_status</th>\n",
              "      <th>order_purchase_timestamp</th>\n",
              "      <th>review_id</th>\n",
              "      <th>review_score</th>\n",
              "    </tr>\n",
              "  </thead>\n",
              "  <tbody>\n",
              "    <tr>\n",
              "      <th>0</th>\n",
              "      <td>order_0</td>\n",
              "      <td>customer_0</td>\n",
              "      <td>canceled</td>\n",
              "      <td>2022-01-01 00:00:00</td>\n",
              "      <td>review_0</td>\n",
              "      <td>5</td>\n",
              "    </tr>\n",
              "    <tr>\n",
              "      <th>1</th>\n",
              "      <td>order_1</td>\n",
              "      <td>customer_1</td>\n",
              "      <td>processing</td>\n",
              "      <td>2022-01-01 01:00:00</td>\n",
              "      <td>review_1</td>\n",
              "      <td>5</td>\n",
              "    </tr>\n",
              "    <tr>\n",
              "      <th>2</th>\n",
              "      <td>order_2</td>\n",
              "      <td>customer_2</td>\n",
              "      <td>delivered</td>\n",
              "      <td>2022-01-01 02:00:00</td>\n",
              "      <td>review_2</td>\n",
              "      <td>4</td>\n",
              "    </tr>\n",
              "    <tr>\n",
              "      <th>3</th>\n",
              "      <td>order_3</td>\n",
              "      <td>customer_3</td>\n",
              "      <td>canceled</td>\n",
              "      <td>2022-01-01 03:00:00</td>\n",
              "      <td>review_3</td>\n",
              "      <td>5</td>\n",
              "    </tr>\n",
              "    <tr>\n",
              "      <th>4</th>\n",
              "      <td>order_4</td>\n",
              "      <td>customer_4</td>\n",
              "      <td>canceled</td>\n",
              "      <td>2022-01-01 04:00:00</td>\n",
              "      <td>review_4</td>\n",
              "      <td>3</td>\n",
              "    </tr>\n",
              "  </tbody>\n",
              "</table>\n",
              "</div>\n",
              "    <div class=\"colab-df-buttons\">\n",
              "\n",
              "  <div class=\"colab-df-container\">\n",
              "    <button class=\"colab-df-convert\" onclick=\"convertToInteractive('df-fe18e4f9-45ba-49b6-bc49-f9230d30ff26')\"\n",
              "            title=\"Convert this dataframe to an interactive table.\"\n",
              "            style=\"display:none;\">\n",
              "\n",
              "  <svg xmlns=\"http://www.w3.org/2000/svg\" height=\"24px\" viewBox=\"0 -960 960 960\">\n",
              "    <path d=\"M120-120v-720h720v720H120Zm60-500h600v-160H180v160Zm220 220h160v-160H400v160Zm0 220h160v-160H400v160ZM180-400h160v-160H180v160Zm440 0h160v-160H620v160ZM180-180h160v-160H180v160Zm440 0h160v-160H620v160Z\"/>\n",
              "  </svg>\n",
              "    </button>\n",
              "\n",
              "  <style>\n",
              "    .colab-df-container {\n",
              "      display:flex;\n",
              "      gap: 12px;\n",
              "    }\n",
              "\n",
              "    .colab-df-convert {\n",
              "      background-color: #E8F0FE;\n",
              "      border: none;\n",
              "      border-radius: 50%;\n",
              "      cursor: pointer;\n",
              "      display: none;\n",
              "      fill: #1967D2;\n",
              "      height: 32px;\n",
              "      padding: 0 0 0 0;\n",
              "      width: 32px;\n",
              "    }\n",
              "\n",
              "    .colab-df-convert:hover {\n",
              "      background-color: #E2EBFA;\n",
              "      box-shadow: 0px 1px 2px rgba(60, 64, 67, 0.3), 0px 1px 3px 1px rgba(60, 64, 67, 0.15);\n",
              "      fill: #174EA6;\n",
              "    }\n",
              "\n",
              "    .colab-df-buttons div {\n",
              "      margin-bottom: 4px;\n",
              "    }\n",
              "\n",
              "    [theme=dark] .colab-df-convert {\n",
              "      background-color: #3B4455;\n",
              "      fill: #D2E3FC;\n",
              "    }\n",
              "\n",
              "    [theme=dark] .colab-df-convert:hover {\n",
              "      background-color: #434B5C;\n",
              "      box-shadow: 0px 1px 3px 1px rgba(0, 0, 0, 0.15);\n",
              "      filter: drop-shadow(0px 1px 2px rgba(0, 0, 0, 0.3));\n",
              "      fill: #FFFFFF;\n",
              "    }\n",
              "  </style>\n",
              "\n",
              "    <script>\n",
              "      const buttonEl =\n",
              "        document.querySelector('#df-fe18e4f9-45ba-49b6-bc49-f9230d30ff26 button.colab-df-convert');\n",
              "      buttonEl.style.display =\n",
              "        google.colab.kernel.accessAllowed ? 'block' : 'none';\n",
              "\n",
              "      async function convertToInteractive(key) {\n",
              "        const element = document.querySelector('#df-fe18e4f9-45ba-49b6-bc49-f9230d30ff26');\n",
              "        const dataTable =\n",
              "          await google.colab.kernel.invokeFunction('convertToInteractive',\n",
              "                                                    [key], {});\n",
              "        if (!dataTable) return;\n",
              "\n",
              "        const docLinkHtml = 'Like what you see? Visit the ' +\n",
              "          '<a target=\"_blank\" href=https://colab.research.google.com/notebooks/data_table.ipynb>data table notebook</a>'\n",
              "          + ' to learn more about interactive tables.';\n",
              "        element.innerHTML = '';\n",
              "        dataTable['output_type'] = 'display_data';\n",
              "        await google.colab.output.renderOutput(dataTable, element);\n",
              "        const docLink = document.createElement('div');\n",
              "        docLink.innerHTML = docLinkHtml;\n",
              "        element.appendChild(docLink);\n",
              "      }\n",
              "    </script>\n",
              "  </div>\n",
              "\n",
              "\n",
              "    <div id=\"df-5c1f3faa-e952-4d83-86fb-26813301269a\">\n",
              "      <button class=\"colab-df-quickchart\" onclick=\"quickchart('df-5c1f3faa-e952-4d83-86fb-26813301269a')\"\n",
              "                title=\"Suggest charts\"\n",
              "                style=\"display:none;\">\n",
              "\n",
              "<svg xmlns=\"http://www.w3.org/2000/svg\" height=\"24px\"viewBox=\"0 0 24 24\"\n",
              "     width=\"24px\">\n",
              "    <g>\n",
              "        <path d=\"M19 3H5c-1.1 0-2 .9-2 2v14c0 1.1.9 2 2 2h14c1.1 0 2-.9 2-2V5c0-1.1-.9-2-2-2zM9 17H7v-7h2v7zm4 0h-2V7h2v10zm4 0h-2v-4h2v4z\"/>\n",
              "    </g>\n",
              "</svg>\n",
              "      </button>\n",
              "\n",
              "<style>\n",
              "  .colab-df-quickchart {\n",
              "      --bg-color: #E8F0FE;\n",
              "      --fill-color: #1967D2;\n",
              "      --hover-bg-color: #E2EBFA;\n",
              "      --hover-fill-color: #174EA6;\n",
              "      --disabled-fill-color: #AAA;\n",
              "      --disabled-bg-color: #DDD;\n",
              "  }\n",
              "\n",
              "  [theme=dark] .colab-df-quickchart {\n",
              "      --bg-color: #3B4455;\n",
              "      --fill-color: #D2E3FC;\n",
              "      --hover-bg-color: #434B5C;\n",
              "      --hover-fill-color: #FFFFFF;\n",
              "      --disabled-bg-color: #3B4455;\n",
              "      --disabled-fill-color: #666;\n",
              "  }\n",
              "\n",
              "  .colab-df-quickchart {\n",
              "    background-color: var(--bg-color);\n",
              "    border: none;\n",
              "    border-radius: 50%;\n",
              "    cursor: pointer;\n",
              "    display: none;\n",
              "    fill: var(--fill-color);\n",
              "    height: 32px;\n",
              "    padding: 0;\n",
              "    width: 32px;\n",
              "  }\n",
              "\n",
              "  .colab-df-quickchart:hover {\n",
              "    background-color: var(--hover-bg-color);\n",
              "    box-shadow: 0 1px 2px rgba(60, 64, 67, 0.3), 0 1px 3px 1px rgba(60, 64, 67, 0.15);\n",
              "    fill: var(--button-hover-fill-color);\n",
              "  }\n",
              "\n",
              "  .colab-df-quickchart-complete:disabled,\n",
              "  .colab-df-quickchart-complete:disabled:hover {\n",
              "    background-color: var(--disabled-bg-color);\n",
              "    fill: var(--disabled-fill-color);\n",
              "    box-shadow: none;\n",
              "  }\n",
              "\n",
              "  .colab-df-spinner {\n",
              "    border: 2px solid var(--fill-color);\n",
              "    border-color: transparent;\n",
              "    border-bottom-color: var(--fill-color);\n",
              "    animation:\n",
              "      spin 1s steps(1) infinite;\n",
              "  }\n",
              "\n",
              "  @keyframes spin {\n",
              "    0% {\n",
              "      border-color: transparent;\n",
              "      border-bottom-color: var(--fill-color);\n",
              "      border-left-color: var(--fill-color);\n",
              "    }\n",
              "    20% {\n",
              "      border-color: transparent;\n",
              "      border-left-color: var(--fill-color);\n",
              "      border-top-color: var(--fill-color);\n",
              "    }\n",
              "    30% {\n",
              "      border-color: transparent;\n",
              "      border-left-color: var(--fill-color);\n",
              "      border-top-color: var(--fill-color);\n",
              "      border-right-color: var(--fill-color);\n",
              "    }\n",
              "    40% {\n",
              "      border-color: transparent;\n",
              "      border-right-color: var(--fill-color);\n",
              "      border-top-color: var(--fill-color);\n",
              "    }\n",
              "    60% {\n",
              "      border-color: transparent;\n",
              "      border-right-color: var(--fill-color);\n",
              "    }\n",
              "    80% {\n",
              "      border-color: transparent;\n",
              "      border-right-color: var(--fill-color);\n",
              "      border-bottom-color: var(--fill-color);\n",
              "    }\n",
              "    90% {\n",
              "      border-color: transparent;\n",
              "      border-bottom-color: var(--fill-color);\n",
              "    }\n",
              "  }\n",
              "</style>\n",
              "\n",
              "      <script>\n",
              "        async function quickchart(key) {\n",
              "          const quickchartButtonEl =\n",
              "            document.querySelector('#' + key + ' button');\n",
              "          quickchartButtonEl.disabled = true;  // To prevent multiple clicks.\n",
              "          quickchartButtonEl.classList.add('colab-df-spinner');\n",
              "          try {\n",
              "            const charts = await google.colab.kernel.invokeFunction(\n",
              "                'suggestCharts', [key], {});\n",
              "          } catch (error) {\n",
              "            console.error('Error during call to suggestCharts:', error);\n",
              "          }\n",
              "          quickchartButtonEl.classList.remove('colab-df-spinner');\n",
              "          quickchartButtonEl.classList.add('colab-df-quickchart-complete');\n",
              "        }\n",
              "        (() => {\n",
              "          let quickchartButtonEl =\n",
              "            document.querySelector('#df-5c1f3faa-e952-4d83-86fb-26813301269a button');\n",
              "          quickchartButtonEl.style.display =\n",
              "            google.colab.kernel.accessAllowed ? 'block' : 'none';\n",
              "        })();\n",
              "      </script>\n",
              "    </div>\n",
              "\n",
              "    </div>\n",
              "  </div>\n"
            ],
            "application/vnd.google.colaboratory.intrinsic+json": {
              "type": "dataframe",
              "variable_name": "df",
              "summary": "{\n  \"name\": \"df\",\n  \"rows\": 5000,\n  \"fields\": [\n    {\n      \"column\": \"order_id\",\n      \"properties\": {\n        \"dtype\": \"string\",\n        \"num_unique_values\": 5000,\n        \"samples\": [\n          \"order_1501\",\n          \"order_2586\",\n          \"order_2653\"\n        ],\n        \"semantic_type\": \"\",\n        \"description\": \"\"\n      }\n    },\n    {\n      \"column\": \"customer_id\",\n      \"properties\": {\n        \"dtype\": \"category\",\n        \"num_unique_values\": 500,\n        \"samples\": [\n          \"customer_361\",\n          \"customer_73\",\n          \"customer_374\"\n        ],\n        \"semantic_type\": \"\",\n        \"description\": \"\"\n      }\n    },\n    {\n      \"column\": \"order_status\",\n      \"properties\": {\n        \"dtype\": \"category\",\n        \"num_unique_values\": 4,\n        \"samples\": [\n          \"processing\",\n          \"shipped\",\n          \"canceled\"\n        ],\n        \"semantic_type\": \"\",\n        \"description\": \"\"\n      }\n    },\n    {\n      \"column\": \"order_purchase_timestamp\",\n      \"properties\": {\n        \"dtype\": \"object\",\n        \"num_unique_values\": 5000,\n        \"samples\": [\n          \"2022-03-04 13:00:00\",\n          \"2022-04-18 18:00:00\",\n          \"2022-04-21 13:00:00\"\n        ],\n        \"semantic_type\": \"\",\n        \"description\": \"\"\n      }\n    },\n    {\n      \"column\": \"review_id\",\n      \"properties\": {\n        \"dtype\": \"string\",\n        \"num_unique_values\": 5000,\n        \"samples\": [\n          \"review_1501\",\n          \"review_2586\",\n          \"review_2653\"\n        ],\n        \"semantic_type\": \"\",\n        \"description\": \"\"\n      }\n    },\n    {\n      \"column\": \"review_score\",\n      \"properties\": {\n        \"dtype\": \"number\",\n        \"std\": 1,\n        \"min\": 1,\n        \"max\": 5,\n        \"num_unique_values\": 5,\n        \"samples\": [\n          4,\n          1,\n          3\n        ],\n        \"semantic_type\": \"\",\n        \"description\": \"\"\n      }\n    }\n  ]\n}"
            }
          },
          "metadata": {},
          "execution_count": 21
        }
      ],
      "source": [
        "df = pd.merge(orders, reviews, on='order_id')\n",
        "df.head()"
      ],
      "id": "iTLrCbHkmTz3"
    },
    {
      "cell_type": "markdown",
      "source": [
        "Comentário: Alta frequência nas notas 4 e 5 confirma o desbalanceamento."
      ],
      "metadata": {
        "id": "BXTkAiolqv44"
      },
      "id": "BXTkAiolqv44"
    },
    {
      "cell_type": "markdown",
      "source": [],
      "metadata": {
        "id": "mETmAgeLqrkY"
      },
      "id": "mETmAgeLqrkY"
    },
    {
      "cell_type": "code",
      "source": [
        "df['order_purchase_timestamp'] = pd.to_datetime(df['order_purchase_timestamp'])\n",
        "df['hour'] = df['order_purchase_timestamp'].dt.hour\n",
        "\n",
        "sns.histplot(df['hour'], bins=24)\n"
      ],
      "metadata": {
        "id": "HhQ8XQRbnH2S",
        "colab": {
          "base_uri": "https://localhost:8080/",
          "height": 467
        },
        "outputId": "d16fb503-dd3b-4c5a-b5ee-47892aa4ccf3"
      },
      "id": "HhQ8XQRbnH2S",
      "execution_count": 22,
      "outputs": [
        {
          "output_type": "execute_result",
          "data": {
            "text/plain": [
              "<Axes: xlabel='hour', ylabel='Count'>"
            ]
          },
          "metadata": {},
          "execution_count": 22
        },
        {
          "output_type": "display_data",
          "data": {
            "text/plain": [
              "<Figure size 640x480 with 1 Axes>"
            ],
            "image/png": "[encoded data removed]"
          },
          "metadata": {}
        }
      ]
    },
    {
      "cell_type": "markdown",
      "source": [
        "Comentário: Picos de compra em horários específicos (manhã e noite), que podem correlacionar com entregas ou atendimento.\n",
        "Scatter hora × nota"
      ],
      "metadata": {
        "id": "8TAimzGKqzVY"
      },
      "id": "8TAimzGKqzVY"
    },
    {
      "cell_type": "code",
      "execution_count": 23,
      "metadata": {
        "colab": {
          "base_uri": "https://localhost:8080/",
          "height": 467
        },
        "id": "4y28SSA2mTz3",
        "outputId": "e76affdd-d7aa-4beb-9fd6-0b69391b7f08"
      },
      "outputs": [
        {
          "output_type": "execute_result",
          "data": {
            "text/plain": [
              "<Axes: xlabel='hour', ylabel='review_score'>"
            ]
          },
          "metadata": {},
          "execution_count": 23
        },
        {
          "output_type": "display_data",
          "data": {
            "text/plain": [
              "<Figure size 640x480 with 1 Axes>"
            ],
            "image/png": "[encoded data removed]"
          },
          "metadata": {}
        }
      ],
      "source": [
        "sns.scatterplot(x='hour', y='review_score', data=df, alpha=0.3)\n"
      ],
      "id": "4y28SSA2mTz3"
    },
    {
      "cell_type": "markdown",
      "source": [
        "Comentário: Algumas variações noturnas são visíveis — possivelmente associadas a entregas fora do horário comercial.\n",
        "Nota por status de pedido"
      ],
      "metadata": {
        "id": "lCtDjOjvq4bj"
      },
      "id": "lCtDjOjvq4bj"
    },
    {
      "cell_type": "markdown",
      "metadata": {
        "id": "uVOlVLRXmTz4"
      },
      "source": [
        "Nota por status de pedido\n",
        "python\n",
        "Copiar\n",
        "Editar\n",
        "\n",
        "Comentário: Pedidos cancelados ou devolvidos apresentam notas significativamente menores.\n",
        "\n",
        "\n"
      ],
      "id": "uVOlVLRXmTz4"
    },
    {
      "cell_type": "code",
      "execution_count": 24,
      "metadata": {
        "colab": {
          "base_uri": "https://localhost:8080/",
          "height": 468
        },
        "id": "GqcEH9X4mTz4",
        "outputId": "ba5e7e90-4604-4e46-9657-f5cc500db264"
      },
      "outputs": [
        {
          "output_type": "execute_result",
          "data": {
            "text/plain": [
              "<Axes: xlabel='purchase_day', ylabel='review_score'>"
            ]
          },
          "metadata": {},
          "execution_count": 24
        },
        {
          "output_type": "display_data",
          "data": {
            "text/plain": [
              "<Figure size 640x480 with 1 Axes>"
            ],
            "image/png": "[encoded data removed]"
          },
          "metadata": {}
        }
      ],
      "source": [
        "df['purchase_day'] = df['order_purchase_timestamp'].dt.day_name()\n",
        "sns.boxplot(x='purchase_day', y='review_score', data=df,\n",
        "            order=['Monday','Tuesday','Wednesday','Thursday','Friday','Saturday','Sunday'])\n"
      ],
      "id": "GqcEH9X4mTz4"
    },
    {
      "cell_type": "code",
      "execution_count": 25,
      "metadata": {
        "colab": {
          "base_uri": "https://localhost:8080/"
        },
        "id": "MzxqQscWmTz5",
        "outputId": "92abc147-ec88-4af6-bdb0-6af74fc77c5a"
      },
      "outputs": [
        {
          "output_type": "stream",
          "name": "stdout",
          "text": [
            "Antes do balanceamento:\n",
            " review_score\n",
            "1     518\n",
            "2     499\n",
            "3    1022\n",
            "4    1511\n",
            "5    1450\n",
            "Name: count, dtype: int64\n",
            "Depois do balanceamento:\n",
            " review_score\n",
            "1    1511\n",
            "2    1511\n",
            "3    1511\n",
            "4    1511\n",
            "5    1511\n",
            "Name: count, dtype: int64\n"
          ]
        }
      ],
      "source": [
        "# Seleciona as colunas relevantes e copia o DataFrame\n",
        "df_model = df[['order_status', 'purchase_day', 'hour', 'review_score']].copy()\n",
        "\n",
        "# Usa one-hot encoding nas colunas categóricas\n",
        "df_model = pd.get_dummies(df_model, columns=['order_status', 'purchase_day'], drop_first=True)\n",
        "\n",
        "# 🔧 Corrige a sintaxe: usar 'columns=' para remover a coluna de target\n",
        "X = df_model.drop(columns='review_score')\n",
        "y = df_model['review_score']\n",
        "\n",
        "# Confere a distribuição original das classes\n",
        "print(\"Antes do balanceamento:\\n\", y.value_counts().sort_index())\n",
        "\n",
        "# Aplica SMOTE para balancear as classes\n",
        "from imblearn.over_sampling import SMOTE\n",
        "sm = SMOTE(random_state=42)\n",
        "X_bal, y_bal = sm.fit_resample(X, y)\n",
        "\n",
        "# Exibe a nova distribuição pós-balanceamento\n",
        "print(\"Depois do balanceamento:\\n\", y_bal.value_counts().sort_index())\n"
      ],
      "id": "MzxqQscWmTz5"
    },
    {
      "cell_type": "markdown",
      "source": [
        "🛠️ 4. Pré‑Processamento e Balanceamento\n",
        "python\n",
        "Copiar\n",
        "Editar\n"
      ],
      "metadata": {
        "id": "25eqJHJQrGXS"
      },
      "id": "25eqJHJQrGXS"
    },
    {
      "cell_type": "markdown",
      "source": [
        "🔄 5. EDA Pós‑Transformações\n",
        "python\n",
        "Copiar\n",
        "Editar\n"
      ],
      "metadata": {
        "id": "3MjwxGkPrMJC"
      },
      "id": "3MjwxGkPrMJC"
    },
    {
      "cell_type": "markdown",
      "metadata": {
        "id": "JYSz9L6hmTz5"
      },
      "source": [
        "# ✅ Pré-processamento de Dados\n",
        "\n",
        "Selecionados os seguintes atributos para continuidade:\n",
        "\n",
        "- `order_status`\n",
        "- `order_purchase_timestamp`\n",
        "- `review_score`"
      ],
      "id": "JYSz9L6hmTz5"
    },
    {
      "cell_type": "code",
      "execution_count": 26,
      "metadata": {
        "id": "wxdy2mvRmTz6",
        "colab": {
          "base_uri": "https://localhost:8080/",
          "height": 468
        },
        "outputId": "4ce8309b-5308-45b8-921f-d5e8bf45c436"
      },
      "outputs": [
        {
          "output_type": "execute_result",
          "data": {
            "text/plain": [
              "<Axes: xlabel='review_score', ylabel='count'>"
            ]
          },
          "metadata": {},
          "execution_count": 26
        },
        {
          "output_type": "display_data",
          "data": {
            "text/plain": [
              "<Figure size 640x480 with 1 Axes>"
            ],
            "image/png": "[encoded data removed]"
          },
          "metadata": {}
        }
      ],
      "source": [
        "df_bal = pd.concat([X_bal, y_bal.rename('review_score')], axis=1)\n",
        "sns.countplot(data=df_bal, x='review_score', order=sorted(df_bal['review_score'].unique()))\n"
      ],
      "id": "wxdy2mvRmTz6"
    },
    {
      "cell_type": "markdown",
      "source": [
        "Comentário: A distribuição pós-balanceamento está equilibrada — excelente cenário para treinar modelos justos."
      ],
      "metadata": {
        "id": "TBYoJWe-rQHQ"
      },
      "id": "TBYoJWe-rQHQ"
    },
    {
      "cell_type": "markdown",
      "source": [
        "🧠 6. Modelagem – Random Forest Baseline\n",
        "python\n",
        "Copiar\n",
        "Editar\n"
      ],
      "metadata": {
        "id": "cYHftwaYrSwo"
      },
      "id": "cYHftwaYrSwo"
    },
    {
      "cell_type": "code",
      "source": [
        "X_train, X_test, y_train, y_test = train_test_split(X_bal, y_bal, test_size=0.3, stratify=y_bal, random_state=42)\n",
        "\n",
        "clf = RandomForestClassifier(random_state=42)\n",
        "clf.fit(X_train, y_train)\n",
        "y_pred = clf.predict(X_test)\n",
        "\n",
        "print(classification_report(y_test, y_pred))\n",
        "sns.heatmap(confusion_matrix(y_test, y_pred), annot=True, fmt='d')\n"
      ],
      "metadata": {
        "colab": {
          "base_uri": "https://localhost:8080/",
          "height": 667
        },
        "id": "uua7GDZJrRPc",
        "outputId": "86a78335-d2d4-4977-92c8-51d74bf36a44"
      },
      "id": "uua7GDZJrRPc",
      "execution_count": 27,
      "outputs": [
        {
          "output_type": "stream",
          "name": "stdout",
          "text": [
            "              precision    recall  f1-score   support\n",
            "\n",
            "           1       0.40      0.44      0.42       454\n",
            "           2       0.38      0.51      0.44       453\n",
            "           3       0.29      0.28      0.28       453\n",
            "           4       0.26      0.19      0.22       454\n",
            "           5       0.27      0.22      0.24       453\n",
            "\n",
            "    accuracy                           0.33      2267\n",
            "   macro avg       0.32      0.33      0.32      2267\n",
            "weighted avg       0.32      0.33      0.32      2267\n",
            "\n"
          ]
        },
        {
          "output_type": "execute_result",
          "data": {
            "text/plain": [
              "<Axes: >"
            ]
          },
          "metadata": {},
          "execution_count": 27
        },
        {
          "output_type": "display_data",
          "data": {
            "text/plain": [
              "<Figure size 640x480 with 2 Axes>"
            ],
            "image/png": "[encoded data removed]"
          },
          "metadata": {}
        }
      ]
    },
    {
      "cell_type": "markdown",
      "metadata": {
        "id": "X-J4WJRjmTz6"
      },
      "source": [
        "Comentários sobre resultados\n",
        "\n",
        "Acurácia geral positiva — mas atenção à performance em classes raras (1 e 2).\n",
        "\n",
        "A matriz mostra onde o modelo acerta ou confunde mais — útil para ajustes..\n",
        "\n",
        "📝 7. Conclusão e Próximos Passos\n",
        "📌 Descobertas principais\n",
        "\n",
        "Status do pedido é uma variável determinante: cancelamentos e devoluções reduzem notas.\n",
        "\n",
        "Compras fora do horário comercial e em fins de semana tendem a ter avaliações piores.\n",
        "\n",
        "O modelo Random Forest alcançou boa acurácia geral, mas precisa melhorar predição de classes menores.\n",
        "\n",
        "📊 Métricas\n",
        "\n",
        "Acurácia: preencher com valor do classification_report\n",
        "\n",
        "F1-macro: preencher"
      ],
      "id": "X-J4WJRjmTz6"
    }
  ],
  "metadata": {
    "kernelspec": {
      "display_name": "Python 3",
      "language": "python",
      "name": "python3"
    },
    "language_info": {
      "name": "python",
      "version": "3.10"
    },
    "colab": {
      "provenance": []
    }
  },
  "nbformat": 4,
  "nbformat_minor": 5
}